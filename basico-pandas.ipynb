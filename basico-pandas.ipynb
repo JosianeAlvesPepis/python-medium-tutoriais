{
 "cells": [
  {
   "cell_type": "markdown",
   "metadata": {},
   "source": [
    "# **Como Manipular Dados com o Pandas: O Básico para o Dia a Dia**\n",
    "\n",
    "O Pandas é uma das ferramentas mais práticas para quem trabalha com dados em Python. Se você quer aprender o essencial para manipular tabelas, explorar informações e fazer análises rápidas, este guia foi feito para você. Vamos simplificar? 🚀\n",
    "\n",
    "## **O que é o Pandas?**\n",
    "Pandas é uma biblioteca que permite trabalhar com dados organizados, como planilhas ou tabelas. Ele é ótimo para:\n",
    "\n",
    "**. Criar e manipular tabelas (DataFrames).**\n",
    "\n",
    "**. Ler e salvar dados de arquivos (CSV, Excel, etc.).**\n",
    "\n",
    "**. Filtrar, transformar e organizar informações.**\n",
    "\n",
    "**. Resumir e explorar dados rapidamente.**\n",
    "\n",
    "## **Instalando o Pandas**\n",
    "\n",
    "Para começar, certifique-se de que o Pandas e o openpyxl (módulo para trabalhar com Excel(.xlsx) no Python) está instalado:"
   ]
  },
  {
   "cell_type": "code",
   "execution_count": 25,
   "metadata": {},
   "outputs": [
    {
     "name": "stdout",
     "output_type": "stream",
     "text": [
      "Requirement already satisfied: pandas in .\\venv\\lib\\site-packages (2.2.3)\n",
      "Requirement already satisfied: openpyxl in .\\venv\\lib\\site-packages (3.1.5)\n",
      "Requirement already satisfied: numpy>=1.26.0 in .\\venv\\lib\\site-packages (from pandas) (2.2.1)\n",
      "Requirement already satisfied: python-dateutil>=2.8.2 in .\\venv\\lib\\site-packages (from pandas) (2.9.0.post0)\n",
      "Requirement already satisfied: pytz>=2020.1 in .\\venv\\lib\\site-packages (from pandas) (2024.2)\n",
      "Requirement already satisfied: tzdata>=2022.7 in .\\venv\\lib\\site-packages (from pandas) (2024.2)\n",
      "Requirement already satisfied: et-xmlfile in .\\venv\\lib\\site-packages (from openpyxl) (2.0.0)\n",
      "Requirement already satisfied: six>=1.5 in .\\venv\\lib\\site-packages (from python-dateutil>=2.8.2->pandas) (1.17.0)\n"
     ]
    }
   ],
   "source": [
    "!pip install pandas openpyxl"
   ]
  },
  {
   "cell_type": "markdown",
   "metadata": {},
   "source": [
    "Agora você está pronto(a) para trabalhar com seus dados. 🎉\n",
    "\n",
    "## **Criando e Salvando DataFrames**\n",
    "\n",
    "O **DataFrame** é como uma tabela superpoderosa. Vamos criar dois exemplos diferentes para salvar em formatos distintos e depois realizar uma análise combinada:\n",
    "\n",
    "### **DataFrame 1: Dados Pessoais dos Funcionários (CSV)**"
   ]
  },
  {
   "cell_type": "code",
   "execution_count": 13,
   "metadata": {},
   "outputs": [],
   "source": [
    "import pandas as pd"
   ]
  },
  {
   "cell_type": "code",
   "execution_count": 14,
   "metadata": {},
   "outputs": [
    {
     "name": "stdout",
     "output_type": "stream",
     "text": [
      "   ID   Nome  Idade          Cidade          Cargo\n",
      "0   1    Ana     25       São Paulo       Analista\n",
      "1   2   João     34  Rio de Janeiro  Desenvolvedor\n",
      "2   3  Maria     29  Belo Horizonte       Designer\n"
     ]
    }
   ],
   "source": [
    "# Criando o primeiro DataFrame\n",
    "dados_pessoais = {\n",
    "    'ID': [1, 2, 3],\n",
    "    'Nome': ['Ana', 'João', 'Maria'],\n",
    "    'Idade': [25, 34, 29],\n",
    "    'Cidade': ['São Paulo', 'Rio de Janeiro', 'Belo Horizonte'],\n",
    "    'Cargo': ['Analista', 'Desenvolvedor', 'Designer']\n",
    "}\n",
    "df_pessoais = pd.DataFrame(dados_pessoais)\n",
    "print(df_pessoais)\n",
    "# Salvando em CSV\n",
    "df_pessoais.to_csv('dados_pessoais.csv', index=False)"
   ]
  },
  {
   "cell_type": "markdown",
   "metadata": {},
   "source": [
    "Note que o arquivo dados_pessoais.csv, apareceu na nossa pasta do projeto.\n",
    "\n",
    "### **DataFrame 2: Cargos e Salários (Excel)**"
   ]
  },
  {
   "cell_type": "code",
   "execution_count": 15,
   "metadata": {},
   "outputs": [
    {
     "name": "stdout",
     "output_type": "stream",
     "text": [
      "           Cargo  Salário\n",
      "0       Analista     4000\n",
      "1  Desenvolvedor     6000\n",
      "2       Designer     4500\n"
     ]
    }
   ],
   "source": [
    "# Criando o segundo DataFrame\n",
    "dados_cargos = {\n",
    "    'Cargo': ['Analista', 'Desenvolvedor', 'Designer'],\n",
    "    'Salário': [4000, 6000, 4500]\n",
    "}\n",
    "\n",
    "df_cargos = pd.DataFrame(dados_cargos)\n",
    "print(df_cargos)\n",
    "# Salvando em Excel\n",
    "df_cargos.to_excel('dados_cargos.xlsx', index=False)"
   ]
  },
  {
   "cell_type": "markdown",
   "metadata": {},
   "source": [
    "Um novo arquivo chamado dados_cargos.xlsx deve ser criado na nossa pasta do projeto.\n",
    "\n",
    "Agora que criamos e salvamos os DataFrames, podemos aprender a carregá-los e combiná-los em uma única análise.\n",
    "\n",
    "## **Ler Dados de Arquivos**\n",
    "O Pandas facilita muito o processo de leitura de dados. Vamos carregar os arquivos criados anteriormente:\n",
    "\n",
    "### **. Ler o arquivo CSV:**"
   ]
  },
  {
   "cell_type": "code",
   "execution_count": 16,
   "metadata": {},
   "outputs": [
    {
     "name": "stdout",
     "output_type": "stream",
     "text": [
      "   ID   Nome  Idade          Cidade          Cargo\n",
      "0   1    Ana     25       São Paulo       Analista\n",
      "1   2   João     34  Rio de Janeiro  Desenvolvedor\n",
      "2   3  Maria     29  Belo Horizonte       Designer\n"
     ]
    }
   ],
   "source": [
    "df_pessoais_lido = pd.read_csv('dados_pessoais.csv')\n",
    "print(df_pessoais_lido.head())"
   ]
  },
  {
   "cell_type": "markdown",
   "metadata": {},
   "source": [
    "### **. Ler o arquivo Excel:**"
   ]
  },
  {
   "cell_type": "code",
   "execution_count": 17,
   "metadata": {},
   "outputs": [
    {
     "name": "stdout",
     "output_type": "stream",
     "text": [
      "           Cargo  Salário\n",
      "0       Analista     4000\n",
      "1  Desenvolvedor     6000\n",
      "2       Designer     4500\n"
     ]
    }
   ],
   "source": [
    "df_cargos_lido = pd.read_excel('dados_cargos.xlsx')\n",
    "print(df_cargos_lido.head())"
   ]
  },
  {
   "cell_type": "markdown",
   "metadata": {},
   "source": [
    "## **Combinando e Analisando Dados**\n",
    "Uma das funcionalidades mais úteis do Pandas é combinar dados de diferentes fontes. Vamos unir os dois DataFrames usando a coluna `Cargo`:"
   ]
  },
  {
   "cell_type": "code",
   "execution_count": 18,
   "metadata": {},
   "outputs": [
    {
     "name": "stdout",
     "output_type": "stream",
     "text": [
      "   ID   Nome  Idade          Cidade          Cargo  Salário\n",
      "0   1    Ana     25       São Paulo       Analista     4000\n",
      "1   2   João     34  Rio de Janeiro  Desenvolvedor     6000\n",
      "2   3  Maria     29  Belo Horizonte       Designer     4500\n"
     ]
    }
   ],
   "source": [
    "# Combinando os DataFrames\n",
    "df_combinado = pd.merge(df_pessoais_lido, df_cargos_lido, on='Cargo')\n",
    "print(df_combinado)"
   ]
  },
  {
   "cell_type": "markdown",
   "metadata": {},
   "source": [
    "Agora temos uma visão completa dos funcionários, incluindo dados pessoais e profissionais.\n",
    "\n",
    "## **Filtrar, Transformar e Organizar Dados**\n",
    "\n",
    "### **Filtrando Dados**\n",
    ". Selecionar funcionários com salário acima de R$ 5000:"
   ]
  },
  {
   "cell_type": "code",
   "execution_count": 19,
   "metadata": {},
   "outputs": [
    {
     "name": "stdout",
     "output_type": "stream",
     "text": [
      "   ID  Nome  Idade          Cidade          Cargo  Salário\n",
      "1   2  João     34  Rio de Janeiro  Desenvolvedor     6000\n"
     ]
    }
   ],
   "source": [
    "df_filtrado = df_combinado[df_combinado['Salário'] > 5000]\n",
    "print(df_filtrado)"
   ]
  },
  {
   "cell_type": "markdown",
   "metadata": {},
   "source": [
    "Nesse caso foi impresso apenas os registros do João que ganha R$ 6000.\n",
    "\n",
    "### **Transformando Dados**\n",
    ". Adicionar uma nova coluna com bônus de 10%:"
   ]
  },
  {
   "cell_type": "code",
   "execution_count": 20,
   "metadata": {},
   "outputs": [
    {
     "name": "stdout",
     "output_type": "stream",
     "text": [
      "   ID   Nome  Idade          Cidade          Cargo  Salário  Bônus\n",
      "0   1    Ana     25       São Paulo       Analista     4000  400.0\n",
      "1   2   João     34  Rio de Janeiro  Desenvolvedor     6000  600.0\n",
      "2   3  Maria     29  Belo Horizonte       Designer     4500  450.0\n"
     ]
    }
   ],
   "source": [
    "df_combinado['Bônus'] = df_combinado['Salário'] * 0.1\n",
    "print(df_combinado)"
   ]
  },
  {
   "cell_type": "markdown",
   "metadata": {},
   "source": [
    "Uma nova coluna chamada Bônus foi adicionada, com base com valor do cálculo de 10% do valor do salário de cada um.\n",
    "\n",
    "## **Organizando Dados**\n",
    "### **Ordenar por salário em ordem decrescente:**"
   ]
  },
  {
   "cell_type": "code",
   "execution_count": 21,
   "metadata": {},
   "outputs": [
    {
     "name": "stdout",
     "output_type": "stream",
     "text": [
      "   ID   Nome  Idade          Cidade          Cargo  Salário  Bônus\n",
      "1   2   João     34  Rio de Janeiro  Desenvolvedor     6000  600.0\n",
      "2   3  Maria     29  Belo Horizonte       Designer     4500  450.0\n",
      "0   1    Ana     25       São Paulo       Analista     4000  400.0\n"
     ]
    }
   ],
   "source": [
    "df_ordenado = df_combinado.sort_values(by='Salário', ascending=False)\n",
    "print(df_ordenado)"
   ]
  },
  {
   "cell_type": "markdown",
   "metadata": {},
   "source": [
    "Caso a ordenação fosse em ordem crescente bastaria trocar o parâmetro `ascending = True`.\n",
    "\n",
    "## **Resumir e Explorar Dados Rapidamente**\n",
    "### **Resumo Estatístico**\n",
    "**. Obter estatísticas básicas:**"
   ]
  },
  {
   "cell_type": "code",
   "execution_count": 22,
   "metadata": {},
   "outputs": [
    {
     "name": "stdout",
     "output_type": "stream",
     "text": [
      "        ID      Idade      Salário       Bônus\n",
      "count  3.0   3.000000     3.000000    3.000000\n",
      "mean   2.0  29.333333  4833.333333  483.333333\n",
      "std    1.0   4.509250  1040.833000  104.083300\n",
      "min    1.0  25.000000  4000.000000  400.000000\n",
      "25%    1.5  27.000000  4250.000000  425.000000\n",
      "50%    2.0  29.000000  4500.000000  450.000000\n",
      "75%    2.5  31.500000  5250.000000  525.000000\n",
      "max    3.0  34.000000  6000.000000  600.000000\n"
     ]
    }
   ],
   "source": [
    "print(df_combinado.describe())"
   ]
  },
  {
   "cell_type": "markdown",
   "metadata": {},
   "source": [
    "E o que significa cada uma dessas linhas?\n",
    "\n",
    "### **count:**\n",
    ". Número de entradas não nulas para cada coluna.\n",
    ". Exemplo: Em todas as colunas (`ID`, `Idade`, `Salário`, `Bônus`), há **3 valores não nulos**, então `count = 3`.\n",
    "\n",
    "### **mean:**\n",
    ". Média (média aritmética) dos valores na coluna.\n",
    ". Exemplo: A média da coluna `Idade` é **29,33 anos** e do Salário é 4833,33.\n",
    "\n",
    "### **std:**\n",
    ". Desvio padrão, que mede a dispersão ou variabilidade dos dados em torno da média.\n",
    ". Exemplo: O desvio padrão para o `Salário` é **1040,38**, indicando que os valores de salário variam significativamente em torno da média.\n",
    "\n",
    "### **min:**\n",
    ". O menor valor na coluna.\n",
    ". Exemplo: O menor valor na coluna `Idade` é **25 anos**, e o menor `Bônus` é **400**.\n",
    "\n",
    "### **25%:**\n",
    ". Primeiro quartil (Q1), ou seja, o valor abaixo do qual 25% dos dados estão situados.\n",
    ". Exemplo: Para a `Idade`, 25% das pessoas têm **27,5 anos ou menos**.\n",
    "\n",
    "### **50%:**\n",
    ". Mediana (Q2), o ponto central dos dados, onde metade dos valores estão abaixo e metade acima.\n",
    ". Exemplo: Na coluna `Salário`, 50% dos valores estão abaixo de **4500**.\n",
    "\n",
    "### **75%:**\n",
    ". Terceiro quartil (Q3), ou seja, o valor abaixo do qual 75% dos dados estão situados.\n",
    ". Exemplo: Para `Bônus`, 75% dos valores estão abaixo de **525**.\n",
    "\n",
    "### **max:**\n",
    ". O maior valor na coluna.\n",
    ". Exemplo: O maior `Salário` é **6000** e a maior Idade é **34 anos**.\n",
    "\n",
    "Fique tranquilo(a) se não entendeu o que significa algumas dessas medidas estatísticas chegaremos em uma explicação melhor elaborada para cada uma delas no futuro. Só guarde essa informação ela é muito útil para entender rapidamente a distribuição e a variabilidade dos seus dados, além de detectar possíveis outliers (valores muito distantes dos demais).\n",
    "\n",
    "## **Explorando Dados**\n",
    "**. Exibir informações gerais:**"
   ]
  },
  {
   "cell_type": "code",
   "execution_count": 23,
   "metadata": {},
   "outputs": [
    {
     "name": "stdout",
     "output_type": "stream",
     "text": [
      "<class 'pandas.core.frame.DataFrame'>\n",
      "RangeIndex: 3 entries, 0 to 2\n",
      "Data columns (total 7 columns):\n",
      " #   Column   Non-Null Count  Dtype  \n",
      "---  ------   --------------  -----  \n",
      " 0   ID       3 non-null      int64  \n",
      " 1   Nome     3 non-null      object \n",
      " 2   Idade    3 non-null      int64  \n",
      " 3   Cidade   3 non-null      object \n",
      " 4   Cargo    3 non-null      object \n",
      " 5   Salário  3 non-null      int64  \n",
      " 6   Bônus    3 non-null      float64\n",
      "dtypes: float64(1), int64(3), object(3)\n",
      "memory usage: 300.0+ bytes\n",
      "None\n"
     ]
    }
   ],
   "source": [
    "print(df_combinado.info())"
   ]
  },
  {
   "cell_type": "markdown",
   "metadata": {},
   "source": [
    "Essa é a saída do método `info()` do pandas, que fornece um resumo técnico sobre o DataFrame.\n",
    "\n",
    "**`<class 'pandas.core.frame.DataFrame'>:`**\n",
    "\n",
    ". Indica que o objeto em questão é um DataFrame, a estrutura principal de dados do pandas.\n",
    "\n",
    "**`RangeIndex: 3 entries, 0 to 2:`**\n",
    "\n",
    ". O índice do DataFrame contém 3 linhas (entradas), indo de 0 a 2.\n",
    "\n",
    "**`Data columns (total 7 columns):`**\n",
    "\n",
    ". O DataFrame tem **7 colunas** no total.\n",
    "\n",
    "Cada linha a seguir descreve uma coluna do DataFrame:\n",
    "\n",
    "**`#`**:\n",
    ". Índice da coluna na tabela de resumo.\n",
    "\n",
    "**`Column`**:\n",
    ". Nome da coluna.\n",
    "\n",
    "**`Non-Null Count`**:\n",
    ". Número de valores não nulos em cada coluna.\n",
    ". Exemplo: Todas as colunas possuem 3 valores não nulos, o que indica que não há valores ausentes (`NaN`) no DataFrame.\n",
    "\n",
    "**`Dtype`**:\n",
    ". Tipo de dado (`dtype`) armazenado na coluna:\n",
    "\n",
    "**`int64`**: Valores inteiros (ex.: `ID`, `Idade`, `Salário`).\n",
    "\n",
    "**`float64`**: Valores de ponto flutuante (ex.: `Bônus`).\n",
    "\n",
    "**`object`**: Strings ou outros objetos (ex.: `Nome`, `Cidade`, `Cargo`).\n",
    "\n",
    "**`Uso de Memória`**:\n",
    "\n",
    "Estimativa do espaço na memória utilizado pelo DataFrame, que neste caso é **300 bytes**.\n",
    "\n",
    "Ou seja, o método `info()` é útil para:\n",
    "\n",
    "**1. Identificar dados ausentes**: Verificando as contagens de valores não nulos (`Non-Null Count`).\n",
    "\n",
    "**2. Entender a estrutura do DataFrame**: Número de linhas, colunas e seus tipos de dados.\n",
    "\n",
    "**3. Checar consumo de memória**, especialmente em grandes conjuntos de dados.\n",
    "\n",
    "**. Contar cargos únicos:**"
   ]
  },
  {
   "cell_type": "code",
   "execution_count": 24,
   "metadata": {},
   "outputs": [
    {
     "name": "stdout",
     "output_type": "stream",
     "text": [
      "Cargo\n",
      "Analista         1\n",
      "Desenvolvedor    1\n",
      "Designer         1\n",
      "Name: count, dtype: int64\n"
     ]
    }
   ],
   "source": [
    "print(df_combinado['Cargo'].value_counts())"
   ]
  },
  {
   "cell_type": "markdown",
   "metadata": {},
   "source": [
    "Com esses exemplos, espero que você tenha conseguido entender como criar DataFrames, salvá-los em diferentes formatos e combiná-los para realizar análises simples.\n",
    "\n",
    "Seja para organizar tabelas, explorar informações ou criar relatórios, o Pandas é uma ferramenta indispensável para o dia a dia de quem trabalha com dados. Além disso, ele facilita até mesmo tarefas mais complexas com poucos comandos."
   ]
  }
 ],
 "metadata": {
  "kernelspec": {
   "display_name": "venv",
   "language": "python",
   "name": "python3"
  },
  "language_info": {
   "codemirror_mode": {
    "name": "ipython",
    "version": 3
   },
   "file_extension": ".py",
   "mimetype": "text/x-python",
   "name": "python",
   "nbconvert_exporter": "python",
   "pygments_lexer": "ipython3",
   "version": "3.12.8"
  }
 },
 "nbformat": 4,
 "nbformat_minor": 2
}
